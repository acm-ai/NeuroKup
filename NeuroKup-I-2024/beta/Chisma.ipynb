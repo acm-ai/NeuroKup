{
  "cells": [
    {
      "cell_type": "code",
      "execution_count": 1,
      "metadata": {
        "colab": {
          "base_uri": "https://localhost:8080/"
        },
        "id": "hLFf1PDmvCxW",
        "outputId": "d8c5ba24-a727-44d1-ee49-1602f04bb5d4"
      },
      "outputs": [
        {
          "output_type": "stream",
          "name": "stdout",
          "text": [
            "Requirement already satisfied: lightgbm in /usr/local/lib/python3.10/dist-packages (4.5.0)\n",
            "Requirement already satisfied: numpy>=1.17.0 in /usr/local/lib/python3.10/dist-packages (from lightgbm) (1.26.4)\n",
            "Requirement already satisfied: scipy in /usr/local/lib/python3.10/dist-packages (from lightgbm) (1.13.1)\n",
            "Requirement already satisfied: joblib in /usr/local/lib/python3.10/dist-packages (1.4.2)\n",
            "Requirement already satisfied: dask in /usr/local/lib/python3.10/dist-packages (2024.10.0)\n",
            "Requirement already satisfied: click>=8.1 in /usr/local/lib/python3.10/dist-packages (from dask) (8.1.7)\n",
            "Requirement already satisfied: cloudpickle>=3.0.0 in /usr/local/lib/python3.10/dist-packages (from dask) (3.1.0)\n",
            "Requirement already satisfied: fsspec>=2021.09.0 in /usr/local/lib/python3.10/dist-packages (from dask) (2024.10.0)\n",
            "Requirement already satisfied: packaging>=20.0 in /usr/local/lib/python3.10/dist-packages (from dask) (24.2)\n",
            "Requirement already satisfied: partd>=1.4.0 in /usr/local/lib/python3.10/dist-packages (from dask) (1.4.2)\n",
            "Requirement already satisfied: pyyaml>=5.3.1 in /usr/local/lib/python3.10/dist-packages (from dask) (6.0.2)\n",
            "Requirement already satisfied: toolz>=0.10.0 in /usr/local/lib/python3.10/dist-packages (from dask) (0.12.1)\n",
            "Requirement already satisfied: importlib-metadata>=4.13.0 in /usr/local/lib/python3.10/dist-packages (from dask) (8.5.0)\n",
            "Requirement already satisfied: zipp>=3.20 in /usr/local/lib/python3.10/dist-packages (from importlib-metadata>=4.13.0->dask) (3.21.0)\n",
            "Requirement already satisfied: locket in /usr/local/lib/python3.10/dist-packages (from partd>=1.4.0->dask) (1.0.0)\n",
            "Collecting catboost\n",
            "  Downloading catboost-1.2.7-cp310-cp310-manylinux2014_x86_64.whl.metadata (1.2 kB)\n",
            "Requirement already satisfied: graphviz in /usr/local/lib/python3.10/dist-packages (from catboost) (0.20.3)\n",
            "Requirement already satisfied: matplotlib in /usr/local/lib/python3.10/dist-packages (from catboost) (3.8.0)\n",
            "Requirement already satisfied: numpy<2.0,>=1.16.0 in /usr/local/lib/python3.10/dist-packages (from catboost) (1.26.4)\n",
            "Requirement already satisfied: pandas>=0.24 in /usr/local/lib/python3.10/dist-packages (from catboost) (2.2.2)\n",
            "Requirement already satisfied: scipy in /usr/local/lib/python3.10/dist-packages (from catboost) (1.13.1)\n",
            "Requirement already satisfied: plotly in /usr/local/lib/python3.10/dist-packages (from catboost) (5.24.1)\n",
            "Requirement already satisfied: six in /usr/local/lib/python3.10/dist-packages (from catboost) (1.16.0)\n",
            "Requirement already satisfied: python-dateutil>=2.8.2 in /usr/local/lib/python3.10/dist-packages (from pandas>=0.24->catboost) (2.8.2)\n",
            "Requirement already satisfied: pytz>=2020.1 in /usr/local/lib/python3.10/dist-packages (from pandas>=0.24->catboost) (2024.2)\n",
            "Requirement already satisfied: tzdata>=2022.7 in /usr/local/lib/python3.10/dist-packages (from pandas>=0.24->catboost) (2024.2)\n",
            "Requirement already satisfied: contourpy>=1.0.1 in /usr/local/lib/python3.10/dist-packages (from matplotlib->catboost) (1.3.1)\n",
            "Requirement already satisfied: cycler>=0.10 in /usr/local/lib/python3.10/dist-packages (from matplotlib->catboost) (0.12.1)\n",
            "Requirement already satisfied: fonttools>=4.22.0 in /usr/local/lib/python3.10/dist-packages (from matplotlib->catboost) (4.55.0)\n",
            "Requirement already satisfied: kiwisolver>=1.0.1 in /usr/local/lib/python3.10/dist-packages (from matplotlib->catboost) (1.4.7)\n",
            "Requirement already satisfied: packaging>=20.0 in /usr/local/lib/python3.10/dist-packages (from matplotlib->catboost) (24.2)\n",
            "Requirement already satisfied: pillow>=6.2.0 in /usr/local/lib/python3.10/dist-packages (from matplotlib->catboost) (11.0.0)\n",
            "Requirement already satisfied: pyparsing>=2.3.1 in /usr/local/lib/python3.10/dist-packages (from matplotlib->catboost) (3.2.0)\n",
            "Requirement already satisfied: tenacity>=6.2.0 in /usr/local/lib/python3.10/dist-packages (from plotly->catboost) (9.0.0)\n",
            "Downloading catboost-1.2.7-cp310-cp310-manylinux2014_x86_64.whl (98.7 MB)\n",
            "\u001b[2K   \u001b[90m━━━━━━━━━━━━━━━━━━━━━━━━━━━━━━━━━━━━━━━━\u001b[0m \u001b[32m98.7/98.7 MB\u001b[0m \u001b[31m8.0 MB/s\u001b[0m eta \u001b[36m0:00:00\u001b[0m\n",
            "\u001b[?25hInstalling collected packages: catboost\n",
            "Successfully installed catboost-1.2.7\n"
          ]
        }
      ],
      "source": [
        "!pip install lightgbm\n",
        "!pip install joblib\n",
        "!pip install dask\n",
        "!pip install catboost"
      ]
    },
    {
      "cell_type": "code",
      "execution_count": 2,
      "metadata": {
        "id": "M6HecRnbtkws",
        "colab": {
          "base_uri": "https://localhost:8080/"
        },
        "outputId": "682ed50b-c8f1-4432-ae18-971d640164a0"
      },
      "outputs": [
        {
          "output_type": "stream",
          "name": "stderr",
          "text": [
            "/usr/local/lib/python3.10/dist-packages/dask/dataframe/__init__.py:42: FutureWarning: \n",
            "Dask dataframe query planning is disabled because dask-expr is not installed.\n",
            "\n",
            "You can install it with `pip install dask[dataframe]` or `conda install dask`.\n",
            "This will raise in a future version.\n",
            "\n",
            "  warnings.warn(msg, FutureWarning)\n"
          ]
        }
      ],
      "source": [
        "# Importar librerías necesarias\n",
        "import numpy as np\n",
        "import pandas as pd\n",
        "import lightgbm as lgb\n",
        "import xgboost as xgb\n",
        "import lightgbm as lgb\n",
        "import catboost as cb\n",
        "import joblib\n",
        "from sklearn.impute import SimpleImputer\n",
        "from sklearn.pipeline import Pipeline\n",
        "from sklearn.preprocessing import StandardScaler, OneHotEncoder, LabelEncoder\n",
        "from sklearn.compose import ColumnTransformer\n",
        "from sklearn.model_selection import train_test_split, GridSearchCV\n",
        "from sklearn.metrics import accuracy_score, classification_report\n",
        "from sklearn.ensemble import RandomForestClassifier, GradientBoostingClassifier, HistGradientBoostingClassifier\n",
        "from sklearn.linear_model import LogisticRegression\n",
        "from sklearn.linear_model import LogisticRegression\n",
        "from sklearn.svm import SVC\n",
        "from sklearn.neighbors import KNeighborsClassifier\n",
        "from sklearn.tree import DecisionTreeClassifier\n",
        "from sklearn.naive_bayes import GaussianNB"
      ]
    },
    {
      "cell_type": "code",
      "execution_count": 3,
      "metadata": {
        "id": "xbf4g_XZvPQk"
      },
      "outputs": [],
      "source": [
        "# Cargar los datos\n",
        "train_data = pd.read_csv(\"kaggle_train_beta.csv\")\n",
        "test_data = pd.read_csv(\"kaggle_test_beta.csv\")\n",
        "submission_example = pd.read_csv(\"submission_example_beta.csv\")"
      ]
    },
    {
      "cell_type": "code",
      "execution_count": 4,
      "metadata": {
        "colab": {
          "base_uri": "https://localhost:8080/"
        },
        "id": "glhBQhFOvVQ-",
        "outputId": "119128f5-b456-4942-8671-3bda2501d4d1"
      },
      "outputs": [
        {
          "output_type": "stream",
          "name": "stdout",
          "text": [
            "<class 'pandas.core.frame.DataFrame'>\n",
            "RangeIndex: 275132 entries, 0 to 275131\n",
            "Data columns (total 17 columns):\n",
            " #   Column                        Non-Null Count   Dtype \n",
            "---  ------                        --------------   ----- \n",
            " 0   CÓDIGO                        275132 non-null  int64 \n",
            " 1   PERIODO_RESULTADOS            275132 non-null  int64 \n",
            " 2   CARRERA_PROFESIONAL           275132 non-null  object\n",
            " 3   CIUDAD                        275132 non-null  object\n",
            " 4   COSTO_MATRÍCULA_SOLES         272893 non-null  object\n",
            " 5   HORAS_SEMANALES_TRABAJO       263595 non-null  object\n",
            " 6   NIVEL_SOCIECONÓMICO_VIVIENDA  263239 non-null  object\n",
            " 7   CUENTA_CON_INTERNET           265366 non-null  object\n",
            " 8   NIVEL_EDUCATIVO_PADRE         266830 non-null  object\n",
            " 9   CUENTA_CON_LAVADORA           260407 non-null  object\n",
            " 10  TIENE_CARRO                   258962 non-null  object\n",
            " 11  ANTECEDENTES_PENALES          275132 non-null  object\n",
            " 12  PAGÓ_MATRÍCULA_POR_SU_CUENTA  272801 non-null  object\n",
            " 13  CUENTA_CON_ORDENADOR          261100 non-null  object\n",
            " 14  CUENTA_CON_INTERNET.1         265366 non-null  object\n",
            " 15  NIVEL_EDUCATIVO_MADRE         266663 non-null  object\n",
            " 16  RENDIMIENTO_ACADÉMICO         275132 non-null  object\n",
            "dtypes: int64(2), object(15)\n",
            "memory usage: 35.7+ MB\n"
          ]
        }
      ],
      "source": [
        "train_data.info()"
      ]
    },
    {
      "cell_type": "code",
      "execution_count": 5,
      "metadata": {
        "colab": {
          "base_uri": "https://localhost:8080/",
          "height": 347
        },
        "id": "eNtBHdfevc5o",
        "outputId": "497719c8-3fe9-4dc1-aeef-9f55bcb617de"
      },
      "outputs": [
        {
          "output_type": "execute_result",
          "data": {
            "text/plain": [
              "   CÓDIGO  PERIODO_RESULTADOS                  CARRERA_PROFESIONAL     CIUDAD  \\\n",
              "0  133959               20203  ADMINISTRACIÓN EN SALUD OCUPACIONAL       LIMA   \n",
              "1  784510               20212           ADMINISTRACION DE EMPRESAS       LIMA   \n",
              "2  535024               20183     INGENIERIA AMBIENTAL Y SANITARIA  CAJAMARCA   \n",
              "3  591650               20212                   CONTADURIA PUBLICA       LIMA   \n",
              "4  635933               20195                   CONTADURIA PUBLICA      PIURA   \n",
              "\n",
              "              COSTO_MATRÍCULA_SOLES HORAS_SEMANALES_TRABAJO  \\\n",
              "0   Entre 850 y menos de 2000 soles     Entre 11 y 20 horas   \n",
              "1   Entre 850 y menos de 2000 soles         Más de 30 horas   \n",
              "2   Entre 850 y menos de 2000 soles       Menos de 10 horas   \n",
              "3   Entre 850 y menos de 2000 soles         Más de 30 horas   \n",
              "4  Entre 2000 y menos de 3500 soles         Más de 30 horas   \n",
              "\n",
              "  NIVEL_SOCIECONÓMICO_VIVIENDA CUENTA_CON_INTERNET  \\\n",
              "0                      Nivel D                  No   \n",
              "1                      Nivel C                  Si   \n",
              "2                      Nivel D                  No   \n",
              "3                      Nivel C                  Si   \n",
              "4                      Nivel C                  Si   \n",
              "\n",
              "            NIVEL_EDUCATIVO_PADRE CUENTA_CON_LAVADORA TIENE_CARRO  \\\n",
              "0             Primaria incompleta                  Si          Si   \n",
              "1             Primaria incompleta                  Si          No   \n",
              "2               Primaria completa                  Si          No   \n",
              "3             Primaria incompleta                  Si          No   \n",
              "4  Educación profesional completa                  Si          No   \n",
              "\n",
              "  ANTECEDENTES_PENALES PAGÓ_MATRÍCULA_POR_SU_CUENTA CUENTA_CON_ORDENADOR  \\\n",
              "0                    N                           Si                   No   \n",
              "1                    N                           Si                   Si   \n",
              "2                    N                           No                   Si   \n",
              "3                    N                           No                   Si   \n",
              "4                    N                           No                   Si   \n",
              "\n",
              "  CUENTA_CON_INTERNET.1                 NIVEL_EDUCATIVO_MADRE  \\\n",
              "0                    No                   Primaria incompleta   \n",
              "1                    Si                   Primaria incompleta   \n",
              "2                    No                     Primaria completa   \n",
              "3                    Si                     Primaria completa   \n",
              "4                    Si  Secundaria (Bachillerato) incompleta   \n",
              "\n",
              "  RENDIMIENTO_ACADÉMICO  \n",
              "0            medio-bajo  \n",
              "1            medio-alto  \n",
              "2            medio-alto  \n",
              "3            medio-bajo  \n",
              "4            medio-alto  "
            ],
            "text/html": [
              "\n",
              "  <div id=\"df-ff4be612-d41a-4935-b61e-c2ecbcacf915\" class=\"colab-df-container\">\n",
              "    <div>\n",
              "<style scoped>\n",
              "    .dataframe tbody tr th:only-of-type {\n",
              "        vertical-align: middle;\n",
              "    }\n",
              "\n",
              "    .dataframe tbody tr th {\n",
              "        vertical-align: top;\n",
              "    }\n",
              "\n",
              "    .dataframe thead th {\n",
              "        text-align: right;\n",
              "    }\n",
              "</style>\n",
              "<table border=\"1\" class=\"dataframe\">\n",
              "  <thead>\n",
              "    <tr style=\"text-align: right;\">\n",
              "      <th></th>\n",
              "      <th>CÓDIGO</th>\n",
              "      <th>PERIODO_RESULTADOS</th>\n",
              "      <th>CARRERA_PROFESIONAL</th>\n",
              "      <th>CIUDAD</th>\n",
              "      <th>COSTO_MATRÍCULA_SOLES</th>\n",
              "      <th>HORAS_SEMANALES_TRABAJO</th>\n",
              "      <th>NIVEL_SOCIECONÓMICO_VIVIENDA</th>\n",
              "      <th>CUENTA_CON_INTERNET</th>\n",
              "      <th>NIVEL_EDUCATIVO_PADRE</th>\n",
              "      <th>CUENTA_CON_LAVADORA</th>\n",
              "      <th>TIENE_CARRO</th>\n",
              "      <th>ANTECEDENTES_PENALES</th>\n",
              "      <th>PAGÓ_MATRÍCULA_POR_SU_CUENTA</th>\n",
              "      <th>CUENTA_CON_ORDENADOR</th>\n",
              "      <th>CUENTA_CON_INTERNET.1</th>\n",
              "      <th>NIVEL_EDUCATIVO_MADRE</th>\n",
              "      <th>RENDIMIENTO_ACADÉMICO</th>\n",
              "    </tr>\n",
              "  </thead>\n",
              "  <tbody>\n",
              "    <tr>\n",
              "      <th>0</th>\n",
              "      <td>133959</td>\n",
              "      <td>20203</td>\n",
              "      <td>ADMINISTRACIÓN EN SALUD OCUPACIONAL</td>\n",
              "      <td>LIMA</td>\n",
              "      <td>Entre 850 y menos de 2000 soles</td>\n",
              "      <td>Entre 11 y 20 horas</td>\n",
              "      <td>Nivel D</td>\n",
              "      <td>No</td>\n",
              "      <td>Primaria incompleta</td>\n",
              "      <td>Si</td>\n",
              "      <td>Si</td>\n",
              "      <td>N</td>\n",
              "      <td>Si</td>\n",
              "      <td>No</td>\n",
              "      <td>No</td>\n",
              "      <td>Primaria incompleta</td>\n",
              "      <td>medio-bajo</td>\n",
              "    </tr>\n",
              "    <tr>\n",
              "      <th>1</th>\n",
              "      <td>784510</td>\n",
              "      <td>20212</td>\n",
              "      <td>ADMINISTRACION DE EMPRESAS</td>\n",
              "      <td>LIMA</td>\n",
              "      <td>Entre 850 y menos de 2000 soles</td>\n",
              "      <td>Más de 30 horas</td>\n",
              "      <td>Nivel C</td>\n",
              "      <td>Si</td>\n",
              "      <td>Primaria incompleta</td>\n",
              "      <td>Si</td>\n",
              "      <td>No</td>\n",
              "      <td>N</td>\n",
              "      <td>Si</td>\n",
              "      <td>Si</td>\n",
              "      <td>Si</td>\n",
              "      <td>Primaria incompleta</td>\n",
              "      <td>medio-alto</td>\n",
              "    </tr>\n",
              "    <tr>\n",
              "      <th>2</th>\n",
              "      <td>535024</td>\n",
              "      <td>20183</td>\n",
              "      <td>INGENIERIA AMBIENTAL Y SANITARIA</td>\n",
              "      <td>CAJAMARCA</td>\n",
              "      <td>Entre 850 y menos de 2000 soles</td>\n",
              "      <td>Menos de 10 horas</td>\n",
              "      <td>Nivel D</td>\n",
              "      <td>No</td>\n",
              "      <td>Primaria completa</td>\n",
              "      <td>Si</td>\n",
              "      <td>No</td>\n",
              "      <td>N</td>\n",
              "      <td>No</td>\n",
              "      <td>Si</td>\n",
              "      <td>No</td>\n",
              "      <td>Primaria completa</td>\n",
              "      <td>medio-alto</td>\n",
              "    </tr>\n",
              "    <tr>\n",
              "      <th>3</th>\n",
              "      <td>591650</td>\n",
              "      <td>20212</td>\n",
              "      <td>CONTADURIA PUBLICA</td>\n",
              "      <td>LIMA</td>\n",
              "      <td>Entre 850 y menos de 2000 soles</td>\n",
              "      <td>Más de 30 horas</td>\n",
              "      <td>Nivel C</td>\n",
              "      <td>Si</td>\n",
              "      <td>Primaria incompleta</td>\n",
              "      <td>Si</td>\n",
              "      <td>No</td>\n",
              "      <td>N</td>\n",
              "      <td>No</td>\n",
              "      <td>Si</td>\n",
              "      <td>Si</td>\n",
              "      <td>Primaria completa</td>\n",
              "      <td>medio-bajo</td>\n",
              "    </tr>\n",
              "    <tr>\n",
              "      <th>4</th>\n",
              "      <td>635933</td>\n",
              "      <td>20195</td>\n",
              "      <td>CONTADURIA PUBLICA</td>\n",
              "      <td>PIURA</td>\n",
              "      <td>Entre 2000 y menos de 3500 soles</td>\n",
              "      <td>Más de 30 horas</td>\n",
              "      <td>Nivel C</td>\n",
              "      <td>Si</td>\n",
              "      <td>Educación profesional completa</td>\n",
              "      <td>Si</td>\n",
              "      <td>No</td>\n",
              "      <td>N</td>\n",
              "      <td>No</td>\n",
              "      <td>Si</td>\n",
              "      <td>Si</td>\n",
              "      <td>Secundaria (Bachillerato) incompleta</td>\n",
              "      <td>medio-alto</td>\n",
              "    </tr>\n",
              "  </tbody>\n",
              "</table>\n",
              "</div>\n",
              "    <div class=\"colab-df-buttons\">\n",
              "\n",
              "  <div class=\"colab-df-container\">\n",
              "    <button class=\"colab-df-convert\" onclick=\"convertToInteractive('df-ff4be612-d41a-4935-b61e-c2ecbcacf915')\"\n",
              "            title=\"Convert this dataframe to an interactive table.\"\n",
              "            style=\"display:none;\">\n",
              "\n",
              "  <svg xmlns=\"http://www.w3.org/2000/svg\" height=\"24px\" viewBox=\"0 -960 960 960\">\n",
              "    <path d=\"M120-120v-720h720v720H120Zm60-500h600v-160H180v160Zm220 220h160v-160H400v160Zm0 220h160v-160H400v160ZM180-400h160v-160H180v160Zm440 0h160v-160H620v160ZM180-180h160v-160H180v160Zm440 0h160v-160H620v160Z\"/>\n",
              "  </svg>\n",
              "    </button>\n",
              "\n",
              "  <style>\n",
              "    .colab-df-container {\n",
              "      display:flex;\n",
              "      gap: 12px;\n",
              "    }\n",
              "\n",
              "    .colab-df-convert {\n",
              "      background-color: #E8F0FE;\n",
              "      border: none;\n",
              "      border-radius: 50%;\n",
              "      cursor: pointer;\n",
              "      display: none;\n",
              "      fill: #1967D2;\n",
              "      height: 32px;\n",
              "      padding: 0 0 0 0;\n",
              "      width: 32px;\n",
              "    }\n",
              "\n",
              "    .colab-df-convert:hover {\n",
              "      background-color: #E2EBFA;\n",
              "      box-shadow: 0px 1px 2px rgba(60, 64, 67, 0.3), 0px 1px 3px 1px rgba(60, 64, 67, 0.15);\n",
              "      fill: #174EA6;\n",
              "    }\n",
              "\n",
              "    .colab-df-buttons div {\n",
              "      margin-bottom: 4px;\n",
              "    }\n",
              "\n",
              "    [theme=dark] .colab-df-convert {\n",
              "      background-color: #3B4455;\n",
              "      fill: #D2E3FC;\n",
              "    }\n",
              "\n",
              "    [theme=dark] .colab-df-convert:hover {\n",
              "      background-color: #434B5C;\n",
              "      box-shadow: 0px 1px 3px 1px rgba(0, 0, 0, 0.15);\n",
              "      filter: drop-shadow(0px 1px 2px rgba(0, 0, 0, 0.3));\n",
              "      fill: #FFFFFF;\n",
              "    }\n",
              "  </style>\n",
              "\n",
              "    <script>\n",
              "      const buttonEl =\n",
              "        document.querySelector('#df-ff4be612-d41a-4935-b61e-c2ecbcacf915 button.colab-df-convert');\n",
              "      buttonEl.style.display =\n",
              "        google.colab.kernel.accessAllowed ? 'block' : 'none';\n",
              "\n",
              "      async function convertToInteractive(key) {\n",
              "        const element = document.querySelector('#df-ff4be612-d41a-4935-b61e-c2ecbcacf915');\n",
              "        const dataTable =\n",
              "          await google.colab.kernel.invokeFunction('convertToInteractive',\n",
              "                                                    [key], {});\n",
              "        if (!dataTable) return;\n",
              "\n",
              "        const docLinkHtml = 'Like what you see? Visit the ' +\n",
              "          '<a target=\"_blank\" href=https://colab.research.google.com/notebooks/data_table.ipynb>data table notebook</a>'\n",
              "          + ' to learn more about interactive tables.';\n",
              "        element.innerHTML = '';\n",
              "        dataTable['output_type'] = 'display_data';\n",
              "        await google.colab.output.renderOutput(dataTable, element);\n",
              "        const docLink = document.createElement('div');\n",
              "        docLink.innerHTML = docLinkHtml;\n",
              "        element.appendChild(docLink);\n",
              "      }\n",
              "    </script>\n",
              "  </div>\n",
              "\n",
              "\n",
              "<div id=\"df-ec37b13b-1be5-4bd8-80ef-d2a230a931d1\">\n",
              "  <button class=\"colab-df-quickchart\" onclick=\"quickchart('df-ec37b13b-1be5-4bd8-80ef-d2a230a931d1')\"\n",
              "            title=\"Suggest charts\"\n",
              "            style=\"display:none;\">\n",
              "\n",
              "<svg xmlns=\"http://www.w3.org/2000/svg\" height=\"24px\"viewBox=\"0 0 24 24\"\n",
              "     width=\"24px\">\n",
              "    <g>\n",
              "        <path d=\"M19 3H5c-1.1 0-2 .9-2 2v14c0 1.1.9 2 2 2h14c1.1 0 2-.9 2-2V5c0-1.1-.9-2-2-2zM9 17H7v-7h2v7zm4 0h-2V7h2v10zm4 0h-2v-4h2v4z\"/>\n",
              "    </g>\n",
              "</svg>\n",
              "  </button>\n",
              "\n",
              "<style>\n",
              "  .colab-df-quickchart {\n",
              "      --bg-color: #E8F0FE;\n",
              "      --fill-color: #1967D2;\n",
              "      --hover-bg-color: #E2EBFA;\n",
              "      --hover-fill-color: #174EA6;\n",
              "      --disabled-fill-color: #AAA;\n",
              "      --disabled-bg-color: #DDD;\n",
              "  }\n",
              "\n",
              "  [theme=dark] .colab-df-quickchart {\n",
              "      --bg-color: #3B4455;\n",
              "      --fill-color: #D2E3FC;\n",
              "      --hover-bg-color: #434B5C;\n",
              "      --hover-fill-color: #FFFFFF;\n",
              "      --disabled-bg-color: #3B4455;\n",
              "      --disabled-fill-color: #666;\n",
              "  }\n",
              "\n",
              "  .colab-df-quickchart {\n",
              "    background-color: var(--bg-color);\n",
              "    border: none;\n",
              "    border-radius: 50%;\n",
              "    cursor: pointer;\n",
              "    display: none;\n",
              "    fill: var(--fill-color);\n",
              "    height: 32px;\n",
              "    padding: 0;\n",
              "    width: 32px;\n",
              "  }\n",
              "\n",
              "  .colab-df-quickchart:hover {\n",
              "    background-color: var(--hover-bg-color);\n",
              "    box-shadow: 0 1px 2px rgba(60, 64, 67, 0.3), 0 1px 3px 1px rgba(60, 64, 67, 0.15);\n",
              "    fill: var(--button-hover-fill-color);\n",
              "  }\n",
              "\n",
              "  .colab-df-quickchart-complete:disabled,\n",
              "  .colab-df-quickchart-complete:disabled:hover {\n",
              "    background-color: var(--disabled-bg-color);\n",
              "    fill: var(--disabled-fill-color);\n",
              "    box-shadow: none;\n",
              "  }\n",
              "\n",
              "  .colab-df-spinner {\n",
              "    border: 2px solid var(--fill-color);\n",
              "    border-color: transparent;\n",
              "    border-bottom-color: var(--fill-color);\n",
              "    animation:\n",
              "      spin 1s steps(1) infinite;\n",
              "  }\n",
              "\n",
              "  @keyframes spin {\n",
              "    0% {\n",
              "      border-color: transparent;\n",
              "      border-bottom-color: var(--fill-color);\n",
              "      border-left-color: var(--fill-color);\n",
              "    }\n",
              "    20% {\n",
              "      border-color: transparent;\n",
              "      border-left-color: var(--fill-color);\n",
              "      border-top-color: var(--fill-color);\n",
              "    }\n",
              "    30% {\n",
              "      border-color: transparent;\n",
              "      border-left-color: var(--fill-color);\n",
              "      border-top-color: var(--fill-color);\n",
              "      border-right-color: var(--fill-color);\n",
              "    }\n",
              "    40% {\n",
              "      border-color: transparent;\n",
              "      border-right-color: var(--fill-color);\n",
              "      border-top-color: var(--fill-color);\n",
              "    }\n",
              "    60% {\n",
              "      border-color: transparent;\n",
              "      border-right-color: var(--fill-color);\n",
              "    }\n",
              "    80% {\n",
              "      border-color: transparent;\n",
              "      border-right-color: var(--fill-color);\n",
              "      border-bottom-color: var(--fill-color);\n",
              "    }\n",
              "    90% {\n",
              "      border-color: transparent;\n",
              "      border-bottom-color: var(--fill-color);\n",
              "    }\n",
              "  }\n",
              "</style>\n",
              "\n",
              "  <script>\n",
              "    async function quickchart(key) {\n",
              "      const quickchartButtonEl =\n",
              "        document.querySelector('#' + key + ' button');\n",
              "      quickchartButtonEl.disabled = true;  // To prevent multiple clicks.\n",
              "      quickchartButtonEl.classList.add('colab-df-spinner');\n",
              "      try {\n",
              "        const charts = await google.colab.kernel.invokeFunction(\n",
              "            'suggestCharts', [key], {});\n",
              "      } catch (error) {\n",
              "        console.error('Error during call to suggestCharts:', error);\n",
              "      }\n",
              "      quickchartButtonEl.classList.remove('colab-df-spinner');\n",
              "      quickchartButtonEl.classList.add('colab-df-quickchart-complete');\n",
              "    }\n",
              "    (() => {\n",
              "      let quickchartButtonEl =\n",
              "        document.querySelector('#df-ec37b13b-1be5-4bd8-80ef-d2a230a931d1 button');\n",
              "      quickchartButtonEl.style.display =\n",
              "        google.colab.kernel.accessAllowed ? 'block' : 'none';\n",
              "    })();\n",
              "  </script>\n",
              "</div>\n",
              "\n",
              "    </div>\n",
              "  </div>\n"
            ],
            "application/vnd.google.colaboratory.intrinsic+json": {
              "type": "dataframe",
              "variable_name": "train_data"
            }
          },
          "metadata": {},
          "execution_count": 5
        }
      ],
      "source": [
        "train_data.head()"
      ]
    },
    {
      "cell_type": "code",
      "execution_count": 6,
      "metadata": {
        "colab": {
          "base_uri": "https://localhost:8080/"
        },
        "id": "xocyMydJvkD6",
        "outputId": "46283542-d485-4d67-cd09-82f615782d09"
      },
      "outputs": [
        {
          "output_type": "execute_result",
          "data": {
            "text/plain": [
              "(275132, 17)"
            ]
          },
          "metadata": {},
          "execution_count": 6
        }
      ],
      "source": [
        "train_data.shape"
      ]
    },
    {
      "cell_type": "code",
      "execution_count": 7,
      "metadata": {
        "colab": {
          "base_uri": "https://localhost:8080/"
        },
        "id": "CJu6ju5Uvnfj",
        "outputId": "2a544782-197e-4169-aae5-a4905a9ee9ab"
      },
      "outputs": [
        {
          "output_type": "stream",
          "name": "stdout",
          "text": [
            "CÓDIGO                              0\n",
            "PERIODO_RESULTADOS                  0\n",
            "CARRERA_PROFESIONAL                 0\n",
            "CIUDAD                              0\n",
            "COSTO_MATRÍCULA_SOLES            2239\n",
            "HORAS_SEMANALES_TRABAJO         11537\n",
            "NIVEL_SOCIECONÓMICO_VIVIENDA    11893\n",
            "CUENTA_CON_INTERNET              9766\n",
            "NIVEL_EDUCATIVO_PADRE            8302\n",
            "CUENTA_CON_LAVADORA             14725\n",
            "TIENE_CARRO                     16170\n",
            "ANTECEDENTES_PENALES                0\n",
            "PAGÓ_MATRÍCULA_POR_SU_CUENTA     2331\n",
            "CUENTA_CON_ORDENADOR            14032\n",
            "CUENTA_CON_INTERNET.1            9766\n",
            "NIVEL_EDUCATIVO_MADRE            8469\n",
            "RENDIMIENTO_ACADÉMICO               0\n",
            "dtype: int64\n"
          ]
        }
      ],
      "source": [
        " # Verificamo las columnas por si tienen valores nulos\n",
        "print(train_data.isnull().sum())"
      ]
    },
    {
      "cell_type": "code",
      "execution_count": 8,
      "metadata": {
        "id": "gYuCO70I1Tg3"
      },
      "outputs": [],
      "source": [
        "# Eliminar columnas redundantes\n",
        "train_data = train_data.drop(columns=['CUENTA_CON_INTERNET.1'])\n",
        "test_data = test_data.drop(columns=['CUENTA_CON_INTERNET.1'])"
      ]
    },
    {
      "cell_type": "code",
      "execution_count": 9,
      "metadata": {
        "id": "VVVqypPT1mBQ"
      },
      "outputs": [],
      "source": [
        "# Separar características y etiqueta objetivo\n",
        "target_col = 'RENDIMIENTO_ACADÉMICO'\n",
        "X = train_data.drop(columns=[target_col, 'CÓDIGO'])\n",
        "y = train_data[target_col]"
      ]
    },
    {
      "cell_type": "code",
      "execution_count": 10,
      "metadata": {
        "id": "cJIvE9Az1oG2"
      },
      "outputs": [],
      "source": [
        "# Codificar la etiqueta objetivo\n",
        "label_encoder = LabelEncoder()\n",
        "y = label_encoder.fit_transform(y)"
      ]
    },
    {
      "cell_type": "code",
      "execution_count": 11,
      "metadata": {
        "id": "DN3akPxZ1qDe"
      },
      "outputs": [],
      "source": [
        "# Dividir en conjuntos de entrenamiento y validación\n",
        "X_train, X_val, y_train, y_val = train_test_split(X, y, test_size=0.2, random_state=42, stratify=y)"
      ]
    },
    {
      "cell_type": "code",
      "execution_count": 12,
      "metadata": {
        "id": "ahJcQvmF1rtb"
      },
      "outputs": [],
      "source": [
        "# Identificar columnas categóricas y numéricas\n",
        "categorical_cols = X.select_dtypes(include=['object']).columns\n",
        "numerical_cols = X.select_dtypes(include=['int64', 'float64']).columns"
      ]
    },
    {
      "cell_type": "code",
      "execution_count": 13,
      "metadata": {
        "id": "RxBQ6xpF1tuG"
      },
      "outputs": [],
      "source": [
        "# Imputadores para manejar valores faltantes\n",
        "categorical_imputer = SimpleImputer(strategy='most_frequent')\n",
        "numerical_imputer = SimpleImputer(strategy='mean')"
      ]
    },
    {
      "cell_type": "code",
      "execution_count": 14,
      "metadata": {
        "id": "OkBTOM4n1x7t"
      },
      "outputs": [],
      "source": [
        "# Pipelines para preprocesamiento\n",
        "categorical_pipeline = Pipeline(steps=[\n",
        "    ('imputer', categorical_imputer),\n",
        "    ('onehot', OneHotEncoder(handle_unknown='ignore', sparse_output=False))\n",
        "])\n",
        "numerical_pipeline = Pipeline(steps=[\n",
        "    ('imputer', numerical_imputer),\n",
        "    ('scaler', StandardScaler())\n",
        "])"
      ]
    },
    {
      "cell_type": "code",
      "execution_count": 15,
      "metadata": {
        "id": "HQbKtpEZ10xr"
      },
      "outputs": [],
      "source": [
        "# Combinación de preprocesamiento\n",
        "preprocessor = ColumnTransformer(transformers=[\n",
        "    ('num', numerical_pipeline, numerical_cols),\n",
        "    ('cat', categorical_pipeline, categorical_cols)\n",
        "])"
      ]
    },
    {
      "cell_type": "code",
      "execution_count": 16,
      "metadata": {
        "id": "9Ac0mVe612Rk"
      },
      "outputs": [],
      "source": [
        "# Preprocesar conjuntos de datos\n",
        "X_train_preprocessed = preprocessor.fit_transform(X_train)\n",
        "X_val_preprocessed = preprocessor.transform(X_val)\n",
        "X_test_preprocessed = preprocessor.transform(test_data.drop(columns=['CÓDIGO']))"
      ]
    },
    {
      "cell_type": "code",
      "execution_count": 17,
      "metadata": {
        "id": "4Q2XJjJd128t"
      },
      "outputs": [],
      "source": [
        "models = {\n",
        "    #\n",
        "    # 'Random Forest': RandomForestClassifier(n_estimators=300, max_depth=25, random_state=42),\n",
        "    # 'Gradient Boosting': GradientBoostingClassifier(n_estimators=300, learning_rate=0.1, max_depth=5, random_state=42),\n",
        "    'HistGradient Boosting': HistGradientBoostingClassifier(max_iter=250, max_depth=10, random_state=42),\n",
        "\n",
        "    # Modelos de árboles de decisión avanzados\n",
        "    # 'XGBoost': xgb.XGBClassifier(n_estimators=300, max_depth=15, random_state=42, learning_rate=0.05, use_label_encoder=False, eval_metric='logloss'),\n",
        "    # 'CatBoost': cb.CatBoostClassifier(iterations=300, depth=10, learning_rate=0.05, verbose=0, random_seed=42),\n",
        "\n",
        "    # Métodos lineales\n",
        "    # 'Logistic Regression': LogisticRegression(max_iter=3000, random_state=42),\n",
        "}\n"
      ]
    },
    {
      "cell_type": "code",
      "execution_count": 18,
      "metadata": {
        "colab": {
          "base_uri": "https://localhost:8080/"
        },
        "id": "rGhS3UEr2eB5",
        "outputId": "0f61eb15-79de-48b8-fefd-1901bec19301"
      },
      "outputs": [
        {
          "output_type": "stream",
          "name": "stdout",
          "text": [
            "Entrenando modelo: HistGradient Boosting\n",
            "HistGradient Boosting Accuracy: 0.5985788794591745\n",
            "              precision    recall  f1-score   support\n",
            "\n",
            "  medio-alto       0.60      0.58      0.59     27472\n",
            "  medio-bajo       0.60      0.62      0.61     27555\n",
            "\n",
            "    accuracy                           0.60     55027\n",
            "   macro avg       0.60      0.60      0.60     55027\n",
            "weighted avg       0.60      0.60      0.60     55027\n",
            "\n"
          ]
        }
      ],
      "source": [
        "  # Entrenar y evaluar cada modelo\n",
        "best_model = None\n",
        "best_accuracy = 0\n",
        "for name, model in models.items():\n",
        "    print(f\"Entrenando modelo: {name}\")\n",
        "    model.fit(X_train_preprocessed, y_train)\n",
        "    y_val_pred = model.predict(X_val_preprocessed)\n",
        "    acc = accuracy_score(y_val, y_val_pred)\n",
        "    print(f\"{name} Accuracy: {acc}\")\n",
        "    print(classification_report(y_val, y_val_pred, target_names=label_encoder.classes_))\n",
        "    if acc > best_accuracy:\n",
        "        best_accuracy = acc\n",
        "        best_model = model"
      ]
    },
    {
      "cell_type": "code",
      "source": [
        "print(best_model)"
      ],
      "metadata": {
        "colab": {
          "base_uri": "https://localhost:8080/"
        },
        "id": "s9BRLuaboByd",
        "outputId": "0b042ea9-a6bd-438a-89cb-6bd64bbbce13"
      },
      "execution_count": 19,
      "outputs": [
        {
          "output_type": "stream",
          "name": "stdout",
          "text": [
            "HistGradientBoostingClassifier(max_depth=10, max_iter=250, random_state=42)\n"
          ]
        }
      ]
    },
    {
      "cell_type": "code",
      "source": [
        "# Guardar el mejor modelo\n",
        "joblib.dump(best_model, 'Chisma.pkl')"
      ],
      "metadata": {
        "colab": {
          "base_uri": "https://localhost:8080/"
        },
        "id": "Dzsh5stsoDsr",
        "outputId": "8524fa82-b8c2-4939-fd7f-04b28a86b833"
      },
      "execution_count": 20,
      "outputs": [
        {
          "output_type": "execute_result",
          "data": {
            "text/plain": [
              "['Chisma.pkl']"
            ]
          },
          "metadata": {},
          "execution_count": 20
        }
      ]
    },
    {
      "cell_type": "code",
      "source": [
        "# Predicciones en el conjunto de prueba\n",
        "X_test = test_data.drop(columns=['CÓDIGO'])\n",
        "X_test_preprocessed = preprocessor.transform(X_test)\n",
        "test_codes = test_data['CÓDIGO']\n",
        "y_test_pred = best_model.predict(X_test_preprocessed)"
      ],
      "metadata": {
        "id": "1XsBu0kwoGKG"
      },
      "execution_count": 21,
      "outputs": []
    },
    {
      "cell_type": "code",
      "source": [
        "# Convertir predicciones a etiquetas originales\n",
        "y_test_pred_labels = label_encoder.inverse_transform(y_test_pred)"
      ],
      "metadata": {
        "id": "vLthv0SPoH0Y"
      },
      "execution_count": 22,
      "outputs": []
    },
    {
      "cell_type": "code",
      "source": [
        "# Crear archivo de predicción\n",
        "submission = pd.DataFrame({\n",
        "    'CÓDIGO': test_codes,\n",
        "    'RENDIMIENTO_ACADÉMICO': y_test_pred_labels\n",
        "})\n",
        "submission.to_csv('Chisma.csv', index=False)\n",
        "\n",
        "print(f\"Mejor modelo guardado: {type(best_model).__name__} con Accuracy: {best_accuracy}\")\n",
        "print(\"Predicciones guardadas en Chisma.csv\")"
      ],
      "metadata": {
        "colab": {
          "base_uri": "https://localhost:8080/"
        },
        "id": "eBXSPQntoM3K",
        "outputId": "b7679a3a-2f9e-48da-bc6e-e4e7863ac88c"
      },
      "execution_count": 24,
      "outputs": [
        {
          "output_type": "stream",
          "name": "stdout",
          "text": [
            "Mejor modelo guardado: HistGradientBoostingClassifier con Accuracy: 0.5985788794591745\n",
            "Predicciones guardadas en Chisma.csv\n"
          ]
        }
      ]
    }
  ],
  "metadata": {
    "colab": {
      "provenance": []
    },
    "kernelspec": {
      "display_name": "Python 3",
      "name": "python3"
    },
    "language_info": {
      "name": "python"
    }
  },
  "nbformat": 4,
  "nbformat_minor": 0
}